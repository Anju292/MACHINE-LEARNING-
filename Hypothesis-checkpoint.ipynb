{
 "cells": [
  {
   "cell_type": "markdown",
   "id": "7a5d1d78-c11c-435c-94dd-40ddfb74eb7f",
   "metadata": {},
   "source": [
    "# HYPOTHESIS TESTING\n",
    "\n",
    "### **Q1**.Suppose a child psychologist claims that the average time working mothers spend talking to their children is at least 11 minutes per day. You conduct a random sample of 1000 working mothers and find they spend an average of 11.5 minutes per day talking with their children. Assume prior research suggests the population standard deviation is 2.3 minutes.Conduct a test with a level of significance of alpha = 0.05."
   ]
  },
  {
   "cell_type": "markdown",
   "id": "d5398fcf-01ad-4e0a-9c91-cda4fcc7615c",
   "metadata": {},
   "source": [
    "**NULL HYPOTHESIS**\n",
    "\n",
    "Ho = μ ≤ 11 minutes\n",
    "\n",
    "**ALTERNATIVE HYPOTHESIS**\n",
    "\n",
    "- Ha = μ > 11 minutes\n",
    "- x̄ = 11.5 minutes\n",
    "- n = 1000\n",
    "- σ = 2.3 minutes\n",
    "- α = 0.05"
   ]
  },
  {
   "cell_type": "markdown",
   "id": "5466c0a4-c489-4376-ab29-d568a3d2f974",
   "metadata": {},
   "source": [
    "### Statistical Test \n",
    "\n",
    "1. **Test Selection:**\n",
    "   - Use a Z-test because the sample size (1000) is greater than 30.\n",
    "\n",
    "2. **Rejection Criteria:**\n",
    "   - Reject \\( H_0 \\) if \\( z_{statistics} > \\) critical value.\n",
    "\n",
    "3. **Z-Test Formula:**\n",
    "   - \\( Z = \\frac{\\bar{x} - \\mu}{\\sigma / \\sqrt{n}} \\)\n",
    "\n",
    "4. **Parameters:**\n",
    "   - \\( \\bar{x} \\) (sample mean): 11.5 minutes\n",
    "   - \\( \\mu \\) (population mean): 11 minutes\n",
    "   - \\( \\sigma \\) (population standard deviation): 2.3 minutes\n",
    "   - \\( n \\) (sample size): 1000"
   ]
  },
  {
   "cell_type": "code",
   "execution_count": 2,
   "id": "a3c7ea16-c276-4edb-8bd0-81ba863477c3",
   "metadata": {},
   "outputs": [],
   "source": [
    "import math"
   ]
  },
  {
   "cell_type": "code",
   "execution_count": 3,
   "id": "1c2bea35-bbf7-4e6b-94be-32dc5cdbf082",
   "metadata": {},
   "outputs": [],
   "source": [
    "alpha = 0.05\n",
    "std = 2.3\n",
    "n =1000\n",
    "n_mean = 11.5\n",
    "populataion_mean =11"
   ]
  },
  {
   "cell_type": "code",
   "execution_count": 4,
   "id": "2feec09b-d1e6-424c-a8db-1f0a5e344dc9",
   "metadata": {},
   "outputs": [],
   "source": [
    "#Hypothesis testing\n",
    "\n",
    "z_test = (n_mean - populataion_mean) / (std/math.sqrt(n))"
   ]
  },
  {
   "cell_type": "code",
   "execution_count": 5,
   "id": "c0b172c2-5b69-445b-8a4f-9ac8a149e3ea",
   "metadata": {},
   "outputs": [
    {
     "data": {
      "text/plain": [
       "6.874516652539955"
      ]
     },
     "execution_count": 5,
     "metadata": {},
     "output_type": "execute_result"
    }
   ],
   "source": [
    "z_test"
   ]
  },
  {
   "cell_type": "code",
   "execution_count": 6,
   "id": "0f4745ac-e913-4aec-ad9f-ab1c3a71169c",
   "metadata": {},
   "outputs": [
    {
     "name": "stdout",
     "output_type": "stream",
     "text": [
      "Critical value: 1.6448536269514722\n"
     ]
    }
   ],
   "source": [
    "import scipy.stats as st\n",
    "\n",
    "\n",
    "alpha = 0.05\n",
    "\n",
    "\n",
    "z_critical = st.norm.ppf(1 - alpha)\n",
    "\n",
    "print(\"Critical value:\", z_critical)"
   ]
  },
  {
   "cell_type": "markdown",
   "id": "56133e91-dc72-48eb-a171-46bfa7044114",
   "metadata": {},
   "source": [
    "## Conclusion\n",
    "\n",
    "Since the z-test value exceeds the critical value, we reject the null hypothesis and conclude that working mothers spend more than 11 minutes per day talking with their children."
   ]
  },
  {
   "cell_type": "markdown",
   "id": "8dfda7d3-ae17-4926-8fcf-36f61f659afb",
   "metadata": {},
   "source": [
    "-----------------------------------------------------------------------------------------------------------------------------------------------------"
   ]
  },
  {
   "cell_type": "markdown",
   "id": "7708ff30-9445-469c-baca-ecf6779d0d92",
   "metadata": {},
   "source": [
    "**Q2**.  A coffee shop claims that their average wait time for customers is less than 5 minutes. To test this claim, a sample of 40 customers is taken, and their wait times are recorded. The sample mean wait time is found to be 4.6 minutes with a standard deviation of 0.8 minutes. Perform a hypothesis test at a significance level of 0.05 and determine whether there is enough evidence to support the coffee shop's claim"
   ]
  },
  {
   "cell_type": "markdown",
   "id": "4f3bc5e0-2339-44e5-bc1e-e43ee063e80c",
   "metadata": {},
   "source": [
    "## Null Hypothesis\n",
    "Ho = μ ≥ 5 minutes\n",
    "\n",
    "## Alternative Hypothesis\n",
    "- Ha = μ < 5 minutes\n",
    "- Sample mean(x̄) = 4.6 minutes\n",
    "- Sample size(n) = 40\n",
    "- Sample Standard deviation(σ) = 0.8 minutes\n",
    "- Population mean(μ) = 5 minutes\n",
    "- Significance level(α) = 0.05(5%)\n",
    "- Degree of freedom(n-1) = 39"
   ]
  },
  {
   "cell_type": "code",
   "execution_count": 14,
   "id": "f514450a-11ab-450e-b4c2-18a2a8f427c2",
   "metadata": {},
   "outputs": [],
   "source": [
    "population_tmean = 5\n",
    "sample_tmean =4.6\n",
    "sample_size = 40\n",
    "std_t = 0.8\n",
    "alpha = 0.05"
   ]
  },
  {
   "cell_type": "markdown",
   "id": "1f134728-fc44-4b5e-bb7c-5867e3690893",
   "metadata": {},
   "source": [
    "**T-Test**\n",
    "The t-test is appropriate in this scenario because we are comparing the mean of a sample (the average wait time of customers in a coffee shop) to a known or hypothesized population mean (5 minutes). This test is used when the population standard deviation is unknown. The t-test allows us to determine if there is a statistically significant difference between the sample mean and the hypothesized population mean, given the sample's standard deviation and size."
   ]
  },
  {
   "cell_type": "code",
   "execution_count": 12,
   "id": "6665e715-f2df-4ec0-b2f1-9301c94b0106",
   "metadata": {},
   "outputs": [
    {
     "data": {
      "text/plain": [
       "-3.162277660168382"
      ]
     },
     "execution_count": 12,
     "metadata": {},
     "output_type": "execute_result"
    }
   ],
   "source": [
    "t_test =  (sample_tmean - population_tmean) / (0.8/math.sqrt(sample_size))\n",
    "t_test"
   ]
  },
  {
   "cell_type": "code",
   "execution_count": 13,
   "id": "707411f2-04a1-4e68-b14f-0c47fd0b80f2",
   "metadata": {},
   "outputs": [
    {
     "name": "stdout",
     "output_type": "stream",
     "text": [
      "Critical value: 1.6848751217112248\n"
     ]
    }
   ],
   "source": [
    "from scipy.stats import t\n",
    "\n",
    "# Degrees of freedom\n",
    "df = 40 - 1  # Sample size minus 1\n",
    "\n",
    "\n",
    "alpha = 0.05\n",
    "\n",
    "# Find critical value\n",
    "t_critical = t.ppf(1 - alpha, df)\n",
    "\n",
    "print(\"Critical value:\", t_critical)"
   ]
  },
  {
   "cell_type": "markdown",
   "id": "72bcadb5-69e9-45a4-9242-ce3dca999743",
   "metadata": {},
   "source": [
    "### Conclusion\n",
    "\n",
    "The calculated t-value of -3.1623 is less than the critical value of 1.68491. Consequently, we reject the null hypothesis. This indicates that there is sufficient evidence to support the coffee shop's claim that the average wait time for their customers is indeed less than 5 minutes. This statistical result reinforces the assertion that the coffee shop maintains a shorter wait time than the hypothesized 5-minute benchmark."
   ]
  }
 ],
 "metadata": {
  "kernelspec": {
   "display_name": "Python 3 (ipykernel)",
   "language": "python",
   "name": "python3"
  },
  "language_info": {
   "codemirror_mode": {
    "name": "ipython",
    "version": 3
   },
   "file_extension": ".py",
   "mimetype": "text/x-python",
   "name": "python",
   "nbconvert_exporter": "python",
   "pygments_lexer": "ipython3",
   "version": "3.11.1"
  }
 },
 "nbformat": 4,
 "nbformat_minor": 5
}
